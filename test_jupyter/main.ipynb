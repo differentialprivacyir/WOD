{
 "cells": [
  {
   "cell_type": "markdown",
   "id": "a84876a6",
   "metadata": {},
   "source": [
    "## Start"
   ]
  },
  {
   "cell_type": "code",
   "execution_count": 4,
   "id": "da7e0903",
   "metadata": {},
   "outputs": [],
   "source": [
    "import sys, pathlib\n",
    "\n",
    "# Path of the folder *above* \"test\"\n",
    "project_root = pathlib.Path().resolve().parent\n",
    "\n",
    "# Add it (only once) to sys.path\n",
    "if str(project_root) not in sys.path:\n",
    "    sys.path.insert(0, str(project_root))\n",
    "\n",
    "from internal.initialize_data import *\n",
    "from internal.LOLOHA import *\n",
    "from client.client import *\n",
    "from server.server import *\n",
    "\n",
    "import progressbar  # pip install progressbar\n",
    "\n",
    "EPSILON = 1\n",
    "RADNOM_SEED = 10\n",
    "DATASET_NUMBER = 2\n",
    "B = 0.005\n",
    "DELTA = 0.001\n",
    "LIMITED_NUMBER = 100\n",
    "EVOLUTION_DOMAIN_SIZE = 360  # in order to Syn.csv\n",
    "ALPHA = 0.4\n",
    "epsiolon1 = ALPHA * EPSILON"
   ]
  },
  {
   "cell_type": "markdown",
   "id": "a553daf2",
   "metadata": {},
   "source": [
    "## Initialize dataset"
   ]
  },
  {
   "cell_type": "code",
   "execution_count": 5,
   "id": "614910e5",
   "metadata": {},
   "outputs": [
    {
     "name": "stdout",
     "output_type": "stream",
     "text": [
      "Reading dataset ...\n",
      "Append evolution data ...\n",
      "Reading domains ...\n",
      "dataset[0] is [4, 0, 0, 0, 12, 0, 0, 0, 0, 0, 0, 0, 6, 0, 0]\n",
      "evolution_dataset[0][:10] is [102, 56, 56, 56, 56, 145, 145, 145, 145, 145]\n",
      "tau is 120\n",
      "number of users is 100\n"
     ]
    }
   ],
   "source": [
    "df = read_evolution_dataset('../dataset/Syn.csv')\n",
    "dataset, evolution_dataset = read_dataset(f'../dataset/Data{DATASET_NUMBER}-coarse.dat', dataFrame=df, limited_number=LIMITED_NUMBER)\n",
    "domains = attributes_domain(f'../dataset/Data{DATASET_NUMBER}-coarse.domain')\n",
    "tau = len(evolution_dataset[0])\n",
    "number_of_users = len(dataset)\n",
    "\n",
    "print('dataset[0] is',dataset[0])\n",
    "print('evolution_dataset[0][:10] is',evolution_dataset[0][:10])\n",
    "print('tau is', tau)\n",
    "print('number of users is', number_of_users)"
   ]
  },
  {
   "cell_type": "markdown",
   "id": "8233eae6",
   "metadata": {},
   "source": [
    "## Real frequency for each data collection $t \\in [\\tau]$"
   ]
  },
  {
   "cell_type": "code",
   "execution_count": 6,
   "id": "ffde1c6c",
   "metadata": {},
   "outputs": [
    {
     "data": {
      "text/plain": [
       "array([0.  , 0.01, 0.  , 0.  , 0.  , 0.  , 0.  , 0.  , 0.01, 0.  , 0.  ,\n",
       "       0.  , 0.  , 0.01, 0.01, 0.  , 0.  , 0.  , 0.  , 0.  , 0.02, 0.01,\n",
       "       0.  , 0.  , 0.  , 0.  , 0.  , 0.  , 0.  , 0.  , 0.  , 0.  , 0.  ,\n",
       "       0.  , 0.01, 0.  , 0.  , 0.  , 0.  , 0.  , 0.01, 0.  , 0.  , 0.01,\n",
       "       0.  , 0.  , 0.  , 0.  , 0.01, 0.01, 0.01, 0.  , 0.02, 0.01, 0.01,\n",
       "       0.  , 0.  , 0.  , 0.01, 0.  , 0.  , 0.  , 0.  , 0.  , 0.01, 0.  ,\n",
       "       0.  , 0.  , 0.  , 0.  , 0.  , 0.01, 0.  , 0.  , 0.  , 0.  , 0.  ,\n",
       "       0.  , 0.  , 0.  , 0.01, 0.  , 0.  , 0.  , 0.  , 0.  , 0.  , 0.01,\n",
       "       0.01, 0.  , 0.  , 0.01, 0.  , 0.  , 0.  , 0.  , 0.  , 0.  , 0.  ,\n",
       "       0.01, 0.  , 0.  , 0.02, 0.  , 0.  , 0.01, 0.01, 0.  , 0.  , 0.  ,\n",
       "       0.  , 0.  , 0.  , 0.  , 0.  , 0.  , 0.  , 0.  , 0.  , 0.  , 0.  ,\n",
       "       0.01, 0.  , 0.  , 0.  , 0.  , 0.  , 0.  , 0.01, 0.  , 0.02, 0.  ,\n",
       "       0.  , 0.  , 0.01, 0.01, 0.  , 0.  , 0.  , 0.  , 0.  , 0.  , 0.  ,\n",
       "       0.  , 0.  , 0.  , 0.  , 0.  , 0.  , 0.01, 0.  , 0.01, 0.  , 0.  ,\n",
       "       0.  , 0.  , 0.01, 0.  , 0.  , 0.  , 0.01, 0.01, 0.  , 0.  , 0.  ,\n",
       "       0.  , 0.01, 0.  , 0.  , 0.01, 0.  , 0.  , 0.  , 0.  , 0.01, 0.  ,\n",
       "       0.  , 0.  , 0.  , 0.  , 0.  , 0.  , 0.  , 0.  , 0.  , 0.  , 0.  ,\n",
       "       0.02, 0.01, 0.02, 0.01, 0.01, 0.  , 0.  , 0.  , 0.  , 0.  , 0.  ,\n",
       "       0.  , 0.  , 0.  , 0.01, 0.  , 0.  , 0.  , 0.01, 0.  , 0.01, 0.  ,\n",
       "       0.  , 0.  , 0.  , 0.01, 0.  , 0.02, 0.  , 0.01, 0.01, 0.  , 0.  ,\n",
       "       0.  , 0.  , 0.  , 0.  , 0.  , 0.  , 0.  , 0.  , 0.  , 0.  , 0.  ,\n",
       "       0.  , 0.  , 0.  , 0.  , 0.01, 0.01, 0.  , 0.  , 0.  , 0.  , 0.01,\n",
       "       0.  , 0.01, 0.  , 0.  , 0.  , 0.  , 0.  , 0.  , 0.  , 0.02, 0.01,\n",
       "       0.  , 0.  , 0.  , 0.  , 0.01, 0.  , 0.01, 0.  , 0.  , 0.  , 0.01,\n",
       "       0.01, 0.  , 0.  , 0.  , 0.  , 0.01, 0.03, 0.  , 0.  , 0.01, 0.  ,\n",
       "       0.  , 0.01, 0.  , 0.  , 0.01, 0.  , 0.  , 0.  , 0.  , 0.  , 0.  ,\n",
       "       0.  , 0.  , 0.  , 0.  , 0.  , 0.  , 0.  , 0.01, 0.  , 0.01, 0.  ,\n",
       "       0.  , 0.  , 0.  , 0.01, 0.  , 0.  , 0.01, 0.  , 0.  , 0.01, 0.  ,\n",
       "       0.01, 0.01, 0.  , 0.  , 0.  , 0.01, 0.  , 0.01, 0.  , 0.  , 0.  ,\n",
       "       0.01, 0.  , 0.  , 0.  , 0.  , 0.  , 0.  , 0.01, 0.  , 0.01, 0.  ,\n",
       "       0.01, 0.  , 0.  , 0.  , 0.  , 0.  , 0.  , 0.01, 0.  , 0.01, 0.  ,\n",
       "       0.  , 0.  , 0.02, 0.02, 0.01, 0.  , 0.  , 0.01, 0.  , 0.01, 0.  ,\n",
       "       0.  , 0.  , 0.  , 0.  , 0.  , 0.  , 0.  , 0.02])"
      ]
     },
     "execution_count": 6,
     "metadata": {},
     "output_type": "execute_result"
    }
   ],
   "source": [
    "dic_real_freq = compute_frequency(evolution_dataset, tau, EVOLUTION_DOMAIN_SIZE)\n",
    "dic_real_freq[0]"
   ]
  },
  {
   "cell_type": "markdown",
   "id": "dc21d8de",
   "metadata": {},
   "source": [
    "## Reduce domain size by hashing"
   ]
  },
  {
   "cell_type": "code",
   "execution_count": 7,
   "id": "2770c0d3",
   "metadata": {},
   "outputs": [
    {
     "name": "stdout",
     "output_type": "stream",
     "text": [
      "Reducing domain ...\n",
      "|   evolution_dataset |   hashed_evolution_dataset |\n",
      "|---------------------|----------------------------|\n",
      "|                 102 |                          1 |\n",
      "|                  56 |                          0 |\n",
      "|                  56 |                          0 |\n",
      "|                  56 |                          0 |\n",
      "|                  56 |                          0 |\n",
      "|                 145 |                          0 |\n",
      "|                 145 |                          0 |\n",
      "|                 145 |                          0 |\n",
      "|                 145 |                          0 |\n",
      "|                 145 |                          0 |\n",
      "user hash functions are [7738027610190837472, 8626972237627649996, 5993720277083531080, 1055802978109315311, 5883490775981491677, 2822948385601967912, 4725253217072501770, 4612987033664339872, 5007681451284570534, 2647159966783034006, 7712471105073079460, 5957068449952623113, 2007053736414676656, 7698327011413103440, 7584104827084424359, 6731695810576476624, 6140840405153522750, 27357392056712207, 7346174292340492329, 6964360708539335384, 3869166464316659289, 1676441193655569249, 7086606539311031100, 2136324763707869193, 5277149736392249855, 7036290011848853448, 5466290646003897917, 4820782317827413340, 6479096823651676653, 3546524531804695470, 3048911994742619448, 3197534009624059979, 2648910814434448037, 6032666934943589746, 6345714023739440536, 7868380749911360457, 5690982665067531008, 4593815747172205752, 3129251766997399264, 477229511014099517, 1181385839879550110, 898837360407391349, 1214020451908765640, 5409318559226181887, 6065888794377501196, 1873657655393267038, 8193267507717486333, 7211143370097480924, 8411825534235737401, 1308570267256225353, 2968454987689140118, 8089949575187490191, 2813302448459696842, 7063884451461424151, 2167044878684642373, 6247209828346635632, 1043528434432881356, 21446619120364413, 5939149544731604891, 539229339781857079, 1196911805086801857, 6712582033578018208, 3064036930806371699, 6089866363903917961, 402130488889793430, 7488171739062110880, 3094974832077549209, 8636004633263540627, 2717542967885503119, 4732502198046015983, 1152558093243641923, 8274624193113178192, 1582312666983390843, 4861427576265702952, 7998461436077199285, 4921668243650172522, 1407410092084849662, 3460965313191059374, 1669501358702689913, 7422568304018246181, 2954561442981702567, 5223596930250816970, 8127968047769672499, 7938464621652963163, 6203993965491077416, 5306646862806036258, 4053442002383420909, 7006114367203716612, 7051911352738101442, 8787587333248588583, 253486832565218955, 9214343302177733995, 368256963567357609, 3207293932652734253, 2494492476496448387, 842740341890976034, 5060042227782327631, 6264231899476153958, 2039362052561334616, 4307430490240994989]\n"
     ]
    }
   ],
   "source": [
    "g = compute_optimal_domain_size(EPSILON, ALPHA)\n",
    "hashed_evolution_dataset, user_hash_functions = reduce_domain_dataset(evolution_dataset, g)\n",
    "\n",
    "# Revise the domains (append evolution domain)\n",
    "domains.append(list(range(g)))\n",
    "\n",
    "# Client\n",
    "client_obj = Client(EPSILON, RADNOM_SEED, B, DELTA)\n",
    "# Server\n",
    "server_obj = Server(domains)\n",
    "\n",
    "print_table(evolution_dataset[0][:10], hashed_evolution_dataset[0][:10], 'evolution_dataset', 'hashed_evolution_dataset')\n",
    "\n",
    "print('user hash functions are', user_hash_functions)"
   ]
  },
  {
   "cell_type": "markdown",
   "id": "3bad07b0",
   "metadata": {},
   "source": [
    "## Perturbation with GRR"
   ]
  },
  {
   "cell_type": "code",
   "execution_count": 8,
   "id": "f437f079",
   "metadata": {},
   "outputs": [
    {
     "name": "stdout",
     "output_type": "stream",
     "text": [
      "Perturbation with GRR ...\n",
      "|   hashed_evolution_dataset |   perturbed_evolution_dataset |\n",
      "|----------------------------|-------------------------------|\n",
      "|                          1 |                             0 |\n",
      "|                          0 |                             1 |\n",
      "|                          0 |                             0 |\n",
      "|                          0 |                             0 |\n",
      "|                          0 |                             0 |\n",
      "|                          0 |                             1 |\n",
      "|                          0 |                             0 |\n",
      "|                          0 |                             0 |\n",
      "|                          0 |                             1 |\n",
      "|                          0 |                             1 |\n"
     ]
    }
   ],
   "source": [
    "perturbed_evolution_dataset = perturbation_GRR(hashed_evolution_dataset, g, EPSILON, 0.2)\n",
    "\n",
    "print_table(hashed_evolution_dataset[0][:10], perturbed_evolution_dataset[0][:10], 'hashed_evolution_dataset', 'perturbed_evolution_dataset')"
   ]
  },
  {
   "cell_type": "markdown",
   "id": "4de91971",
   "metadata": {},
   "source": [
    "## Normalize Dataset"
   ]
  },
  {
   "cell_type": "code",
   "execution_count": 9,
   "id": "57ccfee5",
   "metadata": {},
   "outputs": [
    {
     "name": "stdout",
     "output_type": "stream",
     "text": [
      "Normalizing dataset to [-1,1]\n",
      "Normalizing dataset to [-1,1]\n",
      "|   perturbed_evolution_dataset |   normalized_evolution_dataset |\n",
      "|-------------------------------|--------------------------------|\n",
      "|                             0 |                             -1 |\n",
      "|                             1 |                              1 |\n",
      "|                             0 |                             -1 |\n",
      "|                             0 |                             -1 |\n",
      "|                             0 |                             -1 |\n",
      "|                             1 |                              1 |\n",
      "|                             0 |                             -1 |\n",
      "|                             0 |                             -1 |\n",
      "|                             1 |                              1 |\n",
      "|                             1 |                              1 |\n"
     ]
    }
   ],
   "source": [
    "# normalize to [-1,1]\n",
    "normalized_dataset = normalize_dataset(dataset, domains)\n",
    "normalized_evolution_dataset = normalize_dataset(perturbed_evolution_dataset, [list(range(g)) for _ in range(tau)])\n",
    "\n",
    "print_table(perturbed_evolution_dataset[0][:10], normalized_evolution_dataset[0][:10], 'perturbed_evolution_dataset', 'normalized_evolution_dataset')"
   ]
  },
  {
   "cell_type": "markdown",
   "id": "2b253975",
   "metadata": {},
   "source": [
    "## Wheel of Differential"
   ]
  },
  {
   "cell_type": "code",
   "execution_count": 10,
   "id": "de283363",
   "metadata": {},
   "outputs": [
    {
     "name": "stdout",
     "output_type": "stream",
     "text": [
      "Wheel of Differential ...\n"
     ]
    }
   ],
   "source": [
    "print('Wheel of Differential ...')\n",
    "retrieval_dataset = []\n",
    "retrieval_evolutional_dataset = []\n",
    "\n",
    "for data, data_e in zip(normalized_dataset, normalized_evolution_dataset):\n",
    "    perturbed_data = client_obj.send_perturbed_avg_eigenvector(data, data_e)\n",
    "    retrieval_data = server_obj.received_avg_eigenvector(perturbed_data)\n",
    "    retrieval_dataset.append(retrieval_data[0][:-1])\n",
    "    retrieval_evolutional_dataset.append(get_coloumn_dataset(retrieval_data, -1))\n"
   ]
  },
  {
   "cell_type": "markdown",
   "id": "ea0bdbbd",
   "metadata": {},
   "source": [
    "## Evaluation"
   ]
  },
  {
   "cell_type": "code",
   "execution_count": 11,
   "id": "a1a1f261",
   "metadata": {},
   "outputs": [
    {
     "name": "stdout",
     "output_type": "stream",
     "text": [
      "|   normalized data |   retrival data |\n",
      "|-------------------|-----------------|\n",
      "|         -0.466667 |       -0.467062 |\n",
      "|         -1        |       -1.0004   |\n",
      "|         -1        |       -1.0004   |\n",
      "|         -1        |       -1.0004   |\n",
      "|          0.6      |        0.599605 |\n",
      "|         -1        |       -1.0004   |\n",
      "|         -1        |       -1.0004   |\n",
      "|         -1        |       -1.0004   |\n",
      "|         -1        |       -1.0004   |\n",
      "|         -1        |       -1.0004   |\n",
      "|         -1        |       -1.0004   |\n",
      "|         -1        |       -1.0004   |\n",
      "|         -0.2      |       -0.200395 |\n",
      "|         -1        |       -1.0004   |\n",
      "|         -1        |       -1.0004   |\n",
      "|         -1        |       -1.0004   |\n",
      "domain size of retrieval data is 15\n",
      "tau is 120\n"
     ]
    }
   ],
   "source": [
    "print_table([*normalized_dataset[0], normalized_evolution_dataset[0][0]], [*retrieval_dataset[0], retrieval_evolutional_dataset[0][0]],\n",
    "            'normalized data', 'retrival data')\n",
    "\n",
    "print('domain size of retrieval data is',len(retrieval_dataset[0]))\n",
    "print('tau is', len(retrieval_evolutional_dataset[0]))"
   ]
  },
  {
   "cell_type": "code",
   "execution_count": 12,
   "id": "018e104f",
   "metadata": {},
   "outputs": [
    {
     "name": "stdout",
     "output_type": "stream",
     "text": [
      "Denormaizing dataset ...\n",
      "Denormaizing dataset ...\n",
      "Rounding dataset ...\n"
     ]
    }
   ],
   "source": [
    "# denormalizing\n",
    "denormalized = denormalize_dataset(retrieval_dataset, domains)\n",
    "denormalized_evolution_dataset = denormalize_dataset(retrieval_evolutional_dataset, [list(range(g)) for _ in range(tau)])\n",
    "rounded_evolution_dataset = round_dataset(denormalized_evolution_dataset)\n"
   ]
  },
  {
   "cell_type": "code",
   "execution_count": 13,
   "id": "09d9e241",
   "metadata": {},
   "outputs": [
    {
     "name": "stdout",
     "output_type": "stream",
     "text": [
      "|   original |    retrieved |\n",
      "|------------|--------------|\n",
      "|          4 |  3.99704     |\n",
      "|          0 | -0.00118541  |\n",
      "|          0 | -0.00296352  |\n",
      "|          0 | -0.00296352  |\n",
      "|         12 | 11.997       |\n",
      "|          0 | -0.00118541  |\n",
      "|          0 | -0.00256838  |\n",
      "|          0 | -0.00098784  |\n",
      "|          0 | -0.000790272 |\n",
      "|          0 | -0.000197568 |\n",
      "|          0 | -0.00296352  |\n",
      "|          0 | -0.00296352  |\n",
      "|          6 |  5.99704     |\n",
      "|          0 | -0.00790272  |\n",
      "|          0 | -0.000197568 |\n",
      "|   original evolution |   retrieved evolution |\n",
      "|----------------------|-----------------------|\n",
      "|                    1 |                     0 |\n",
      "|                    0 |                     1 |\n",
      "|                    0 |                     0 |\n",
      "|                    0 |                     0 |\n",
      "|                    0 |                     0 |\n",
      "|                    0 |                     1 |\n",
      "|                    0 |                     0 |\n",
      "|                    0 |                     0 |\n",
      "|                    0 |                     1 |\n",
      "|                    0 |                     1 |\n",
      "MSE is 0.06521591171552808\n",
      "Average Variation Distance is 0.06548894027568969\n"
     ]
    }
   ],
   "source": [
    "print_table(dataset[0], denormalized[0], 'original', 'retrieved')\n",
    "print_table(hashed_evolution_dataset[0][:10], rounded_evolution_dataset[0][:10], 'original evolution', 'retrieved evolution')\n",
    "\n",
    "print('MSE is', findMSE(normalized_dataset, retrieval_dataset))\n",
    "_, avg = average_variation_distance(dataset, denormalized)\n",
    "print('Average Variation Distance is', avg)"
   ]
  },
  {
   "cell_type": "markdown",
   "id": "8cae56c0",
   "metadata": {},
   "source": [
    "## Evaluate Frequency Estimation"
   ]
  },
  {
   "cell_type": "code",
   "execution_count": 15,
   "id": "afc7ab1b",
   "metadata": {},
   "outputs": [
    {
     "name": "stderr",
     "output_type": "stream",
     "text": [
      "100% |########################################################################|\r"
     ]
    },
    {
     "name": "stdout",
     "output_type": "stream",
     "text": [
      "|   real frequency |   estimate frequency |\n",
      "|------------------|----------------------|\n",
      "|             0    |           0          |\n",
      "|             0.01 |           0.00171821 |\n",
      "|             0    |           0          |\n",
      "|             0    |           0          |\n",
      "|             0    |           0.00343643 |\n",
      "|             0    |           0          |\n",
      "|             0    |           0.0120275  |\n",
      "|             0    |           0          |\n",
      "|             0.01 |           0.00515464 |\n",
      "|             0    |           0          |\n",
      "MSE of frequency is 4.8033765512103453e-05\n"
     ]
    },
    {
     "name": "stderr",
     "output_type": "stream",
     "text": [
      "\n"
     ]
    }
   ],
   "source": [
    "prog = progressbar.ProgressBar(maxval=tau)\n",
    "prog.start()\n",
    "\n",
    "dic_estimate_freq = []\n",
    "for t in range(tau):\n",
    "    dic_estimate_freq.append(LOLOHA_Aggregator(get_coloumn_dataset(rounded_evolution_dataset, t), user_hash_functions, EVOLUTION_DOMAIN_SIZE, EPSILON, epsiolon1, ALPHA))\n",
    "    prog.update(t) \n",
    "\n",
    "prog.finish()\n",
    "\n",
    "print_table(dic_real_freq[0][:10], dic_estimate_freq[0][:10], 'real frequency', 'estimate frequency')\n",
    "\n",
    "print('MSE of frequency is', findMSE(dic_real_freq, dic_estimate_freq))"
   ]
  },
  {
   "cell_type": "code",
   "execution_count": null,
   "id": "10e43a6b",
   "metadata": {},
   "outputs": [],
   "source": []
  }
 ],
 "metadata": {
  "kernelspec": {
   "display_name": "Python 3",
   "language": "python",
   "name": "python3"
  },
  "language_info": {
   "codemirror_mode": {
    "name": "ipython",
    "version": 3
   },
   "file_extension": ".py",
   "mimetype": "text/x-python",
   "name": "python",
   "nbconvert_exporter": "python",
   "pygments_lexer": "ipython3",
   "version": "3.6.9"
  }
 },
 "nbformat": 4,
 "nbformat_minor": 5
}
