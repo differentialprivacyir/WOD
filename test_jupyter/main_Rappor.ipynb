{
 "cells": [
  {
   "cell_type": "markdown",
   "id": "425f497e",
   "metadata": {},
   "source": [
    "## Start"
   ]
  },
  {
   "cell_type": "code",
   "execution_count": 1,
   "id": "76c678b7",
   "metadata": {},
   "outputs": [],
   "source": [
    "# ------------ Test Rappor Mechanism ------------------------------ #\n",
    "import sys, pathlib\n",
    "\n",
    "# Path of the folder *above* \"test\"\n",
    "project_root = pathlib.Path().resolve().parent\n",
    "\n",
    "# Add it (only once) to sys.path\n",
    "if str(project_root) not in sys.path:\n",
    "    sys.path.insert(0, str(project_root))\n",
    "\n",
    "\n",
    "from internal.initialize_data import *\n",
    "from internal.normalizer import *\n",
    "from internal.evaluation import *\n",
    "from other_solutions.Rappor import *\n",
    "import os\n",
    "import progressbar  # pip install progressbar\n",
    "\n",
    "EPSILON = os.environ.get('EPSILON', 1)\n",
    "RADNOM_SEED = os.environ.get('RADNOM_SEED', 10)\n",
    "DATASET_NUMBER = os.environ.get('DATASET_NUMBER', 2)\n",
    "LIMITED_NUMBER = os.environ.get('LIM', 100)\n",
    "EVOLUTION_DOMAIN_SIZE = 360  # in order to Syn.csv\n",
    "ALPHA = 0.4\n",
    "epsiolon1 = ALPHA * EPSILON"
   ]
  },
  {
   "cell_type": "markdown",
   "id": "a5cb808f",
   "metadata": {},
   "source": [
    "## Initialize dataset"
   ]
  },
  {
   "cell_type": "code",
   "execution_count": 2,
   "id": "020f6d02",
   "metadata": {},
   "outputs": [
    {
     "name": "stdout",
     "output_type": "stream",
     "text": [
      "Reading dataset ...\n",
      "Append evolution data ...\n",
      "number of users is 100\n",
      "evolution_dataset[0][:10] is [102, 56, 56, 56, 56, 145, 145, 145, 145, 145]\n",
      "tau is 120\n"
     ]
    }
   ],
   "source": [
    "df = read_evolution_dataset('../dataset/Syn.csv')\n",
    "_, evolution_dataset = read_dataset(f'../dataset/Data{DATASET_NUMBER}-coarse.dat', dataFrame=df, limited_number=int(LIMITED_NUMBER))\n",
    "tau = len(evolution_dataset[0])\n",
    "n = len(evolution_dataset)\n",
    "\n",
    "print('number of users is', n)\n",
    "print('evolution_dataset[0][:10] is',evolution_dataset[0][:10])\n",
    "print('tau is', tau)"
   ]
  },
  {
   "cell_type": "markdown",
   "id": "654d2e76",
   "metadata": {},
   "source": [
    "## Real frequency for each data collection $t \\in [\\tau]$"
   ]
  },
  {
   "cell_type": "code",
   "execution_count": 3,
   "id": "f554de7c",
   "metadata": {},
   "outputs": [],
   "source": [
    "dic_real_freq = compute_frequency(evolution_dataset, tau, EVOLUTION_DOMAIN_SIZE)"
   ]
  },
  {
   "cell_type": "markdown",
   "id": "2542b6ca",
   "metadata": {},
   "source": [
    "## Perturbation with Rappor"
   ]
  },
  {
   "cell_type": "code",
   "execution_count": 4,
   "id": "8723bd43",
   "metadata": {},
   "outputs": [
    {
     "name": "stdout",
     "output_type": "stream",
     "text": [
      "Value 102 perturebed to [0. 0. 1. 1. 0. 0. 1. 0. 0. 0. 0. 1. 0. 0. 1. 0. 1. 0. 1. 0. 1. 1. 1. 0.\n",
      " 0. 1. 1. 0. 1. 0. 0. 0. 1. 0. 0. 1. 0. 1. 0. 1. 0. 1. 1. 1. 1. 0. 0. 1.\n",
      " 0. 0. 1. 0. 0. 0. 0. 1. 0. 0. 0. 1. 1. 1. 1. 0. 0. 0. 0. 1. 0. 1. 1. 1.\n",
      " 1. 0. 0. 0. 0. 0. 1. 1. 1. 1. 0. 1. 0. 1. 1. 0. 1. 1. 0. 0. 0. 0. 0. 1.\n",
      " 0. 1. 1. 0. 0. 0. 1. 0. 1. 0. 0. 0. 1. 0. 0. 1. 0. 1. 1. 0. 0. 0. 1. 1.\n",
      " 1. 0. 1. 0. 1. 0. 0. 0. 1. 0. 0. 1. 0. 0. 0. 1. 0. 0. 0. 0. 0. 0. 1. 1.\n",
      " 0. 0. 0. 1. 1. 0. 1. 1. 0. 1. 1. 1. 0. 1. 1. 1. 1. 0. 1. 0. 0. 0. 0. 1.\n",
      " 1. 0. 0. 0. 0. 0. 1. 1. 0. 1. 1. 0. 0. 0. 1. 1. 1. 0. 1. 1. 0. 1. 1. 0.\n",
      " 1. 0. 0. 1. 0. 1. 1. 0. 1. 1. 0. 1. 1. 0. 0. 0. 1. 0. 0. 1. 1. 1. 0. 0.\n",
      " 1. 1. 1. 0. 1. 0. 0. 1. 0. 1. 1. 0. 0. 0. 0. 0. 1. 1. 0. 1. 0. 1. 1. 0.\n",
      " 1. 1. 0. 1. 0. 0. 1. 1. 1. 0. 0. 0. 1. 1. 1. 0. 0. 1. 0. 0. 0. 0. 0. 0.\n",
      " 1. 0. 0. 0. 0. 1. 1. 0. 0. 1. 1. 1. 1. 0. 1. 1. 0. 1. 1. 0. 0. 1. 0. 1.\n",
      " 0. 1. 0. 1. 0. 0. 1. 0. 0. 0. 0. 0. 0. 0. 1. 0. 0. 0. 1. 1. 0. 1. 0. 1.\n",
      " 0. 1. 0. 0. 0. 1. 1. 0. 0. 0. 1. 1. 0. 0. 1. 0. 1. 0. 0. 0. 0. 1. 1. 0.\n",
      " 0. 1. 1. 0. 1. 1. 1. 0. 1. 0. 0. 1. 0. 0. 1. 1. 1. 0. 0. 0. 0. 1. 0. 1.]\n"
     ]
    }
   ],
   "source": [
    "r_test = Rappor_Class(EPSILON, epsiolon1, RADNOM_SEED)\n",
    "perturbed_test, _ = r_test.RAPPOR_Client(evolution_dataset[0], EVOLUTION_DOMAIN_SIZE)\n",
    "\n",
    "print(f'Value {evolution_dataset[0][0]} perturebed to {perturbed_test[0]}')"
   ]
  },
  {
   "cell_type": "code",
   "execution_count": 5,
   "id": "be30c9a2",
   "metadata": {},
   "outputs": [
    {
     "name": "stderr",
     "output_type": "stream",
     "text": [
      "100% |########################################################################|\n"
     ]
    }
   ],
   "source": [
    "rappor_obj = Rappor_Class(EPSILON, epsiolon1, RADNOM_SEED)\n",
    "perturbed_evolution_dataset = []\n",
    "\n",
    "prog = progressbar.ProgressBar(maxval=n)\n",
    "prog.start()\n",
    "for index, user_row in enumerate(evolution_dataset):\n",
    "    perturbed_row, _ = rappor_obj.RAPPOR_Client(user_row, EVOLUTION_DOMAIN_SIZE)\n",
    "    perturbed_evolution_dataset.append(perturbed_row)\n",
    "    prog.update(index)\n",
    "prog.finish()"
   ]
  },
  {
   "cell_type": "markdown",
   "id": "b75629af",
   "metadata": {},
   "source": [
    "## Evaluate Frequency Estimation"
   ]
  },
  {
   "cell_type": "code",
   "execution_count": 8,
   "id": "8b3358e8",
   "metadata": {},
   "outputs": [
    {
     "name": "stdout",
     "output_type": "stream",
     "text": [
      "|   real frequency |   estimate frequency |\n",
      "|------------------|----------------------|\n",
      "|             0    |           0          |\n",
      "|             0.01 |           0.00507314 |\n",
      "|             0    |           0.00379957 |\n",
      "|             0    |           0.00507314 |\n",
      "|             0    |           0.00125243 |\n",
      "|             0    |           0.00507314 |\n",
      "|             0    |           0          |\n",
      "|             0    |           0.00507314 |\n",
      "|             0.01 |           0.00379957 |\n",
      "|             0    |           0.00762028 |\n",
      "MSE of frequency is 4.319497604025778e-05\n"
     ]
    }
   ],
   "source": [
    "dic_estimate_freq = []\n",
    "for t in range(tau):\n",
    "    dic_estimate_freq.append(rappor_obj.RAPPOR_Aggregator(get_coloumn_dataset(perturbed_evolution_dataset, t)))\n",
    "\n",
    "print_table(dic_real_freq[0][:10], dic_estimate_freq[0][:10], 'real frequency', 'estimate frequency')\n",
    "\n",
    "print('MSE of frequency is', findMSE(dic_real_freq, dic_estimate_freq))"
   ]
  },
  {
   "cell_type": "code",
   "execution_count": null,
   "id": "90f136c5",
   "metadata": {},
   "outputs": [],
   "source": []
  }
 ],
 "metadata": {
  "kernelspec": {
   "display_name": "Python 3",
   "language": "python",
   "name": "python3"
  },
  "language_info": {
   "codemirror_mode": {
    "name": "ipython",
    "version": 3
   },
   "file_extension": ".py",
   "mimetype": "text/x-python",
   "name": "python",
   "nbconvert_exporter": "python",
   "pygments_lexer": "ipython3",
   "version": "3.6.9"
  }
 },
 "nbformat": 4,
 "nbformat_minor": 5
}
