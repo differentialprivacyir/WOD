{
 "cells": [
  {
   "cell_type": "markdown",
   "id": "425f497e",
   "metadata": {},
   "source": [
    "## Start"
   ]
  },
  {
   "cell_type": "code",
   "execution_count": null,
   "id": "76c678b7",
   "metadata": {},
   "outputs": [],
   "source": [
    "# ------------ Test Piecewise Mechanism ------------------------------ #\n",
    "import sys, pathlib\n",
    "\n",
    "# Path of the folder *above* \"test\"\n",
    "project_root = pathlib.Path().resolve().parent\n",
    "\n",
    "# Add it (only once) to sys.path\n",
    "if str(project_root) not in sys.path:\n",
    "    sys.path.insert(0, str(project_root))\n",
    "\n",
    "\n",
    "from other_solutions.PM import *\n",
    "from internal.initialize_data import *\n",
    "from internal.normalizer import *\n",
    "from internal.evaluation import *\n",
    "import os\n",
    "import progressbar  # pip install progressbar\n",
    "\n",
    "EPSILON = os.environ.get('EPSILON', 1)\n",
    "RADNOM_SEED = os.environ.get('RADNOM_SEED', 10)\n",
    "DATASET_NUMBER = os.environ.get('DATASET_NUMBER', 2)\n",
    "LIMITED_NUMBER = os.environ.get('LIM', 0)\n",
    "EVOLUTION_DOMAIN_SIZE = 360  # in order to Syn.csv\n",
    "ALPHA = 0.4\n",
    "epsiolon1 = ALPHA * EPSILON"
   ]
  },
  {
   "cell_type": "markdown",
   "id": "a5cb808f",
   "metadata": {},
   "source": [
    "## Initialize dataset"
   ]
  },
  {
   "cell_type": "code",
   "execution_count": 2,
   "id": "020f6d02",
   "metadata": {},
   "outputs": [
    {
     "name": "stdout",
     "output_type": "stream",
     "text": [
      "Reading dataset ...\n",
      "Reading domains ...\n",
      "dataset[0] is [4, 0, 0, 0, 12, 0, 0, 0, 0, 0, 0, 0, 6, 0, 0]\n",
      "number of users is 45222\n",
      "k is 1\n"
     ]
    }
   ],
   "source": [
    "dataset, _ = read_dataset(f'../dataset/Data{DATASET_NUMBER}-coarse.dat', dataFrame=None, limited_number=int(LIMITED_NUMBER))\n",
    "domains = attributes_domain(f'../dataset/Data{DATASET_NUMBER}-coarse.domain')\n",
    "number_of_users = len(dataset)\n",
    "pm_obj = PM_Class(len(dataset[0]), EPSILON, RADNOM_SEED)\n",
    "\n",
    "print('dataset[0] is',dataset[0])\n",
    "print('number of users is', number_of_users)\n",
    "print('k is', pm_obj.k)"
   ]
  },
  {
   "cell_type": "markdown",
   "id": "654d2e76",
   "metadata": {},
   "source": [
    "## Normalize Dataset"
   ]
  },
  {
   "cell_type": "code",
   "execution_count": 3,
   "id": "f554de7c",
   "metadata": {},
   "outputs": [
    {
     "name": "stdout",
     "output_type": "stream",
     "text": [
      "Normalizing dataset to [-1,1]\n"
     ]
    }
   ],
   "source": [
    "# normalize to [-1,1]\n",
    "normalized_dataset = normalize_dataset(dataset, domains)"
   ]
  },
  {
   "cell_type": "markdown",
   "id": "2542b6ca",
   "metadata": {},
   "source": [
    "## Perturbation"
   ]
  },
  {
   "cell_type": "code",
   "execution_count": 4,
   "id": "be30c9a2",
   "metadata": {},
   "outputs": [
    {
     "name": "stdout",
     "output_type": "stream",
     "text": [
      "Perturbation with Piecewise Mechanism ...\n"
     ]
    }
   ],
   "source": [
    "print('Perturbation with Piecewise Mechanism ...')\n",
    "retrieval_dataset = []\n",
    "for row in normalized_dataset:\n",
    "    retrieval_dataset.append(pm_obj.perturb_tuple_PM(row))"
   ]
  },
  {
   "cell_type": "code",
   "execution_count": 5,
   "id": "9300beb7",
   "metadata": {},
   "outputs": [
    {
     "name": "stdout",
     "output_type": "stream",
     "text": [
      "|   Normalized Dataset |   Perturbed Dataset |\n",
      "|----------------------|---------------------|\n",
      "|            -0.466667 |              0      |\n",
      "|            -1        |              0      |\n",
      "|            -1        |              0      |\n",
      "|            -1        |              0      |\n",
      "|             0.6      |              0      |\n",
      "|            -1        |              0      |\n",
      "|            -1        |              0      |\n",
      "|            -1        |              0      |\n",
      "|            -1        |              0      |\n",
      "|            -1        |              0      |\n",
      "|            -1        |              0      |\n",
      "|            -1        |             -1.5289 |\n",
      "|            -0.2      |              0      |\n",
      "|            -1        |              0      |\n",
      "|            -1        |              0      |\n"
     ]
    }
   ],
   "source": [
    "print_table(normalized_dataset[0], retrieval_dataset[0],\n",
    "            'Normalized Dataset', 'Perturbed Dataset')"
   ]
  },
  {
   "cell_type": "markdown",
   "id": "b75629af",
   "metadata": {},
   "source": [
    "## Evaluation"
   ]
  },
  {
   "cell_type": "code",
   "execution_count": 6,
   "id": "8b3358e8",
   "metadata": {},
   "outputs": [
    {
     "name": "stdout",
     "output_type": "stream",
     "text": [
      "Denormaizing dataset ...\n",
      "MSE is 0.8787913445058734\n",
      "Average Variation Distance is 0.6021214601077911\n"
     ]
    }
   ],
   "source": [
    "# denormalizing\n",
    "denormalized = denormalize_dataset(retrieval_dataset, domains)\n",
    "\n",
    "print('MSE is', findMSE(normalized_dataset, retrieval_dataset))\n",
    "_, avg = average_variation_distance(dataset, denormalized)\n",
    "print('Average Variation Distance is', avg)"
   ]
  },
  {
   "cell_type": "code",
   "execution_count": null,
   "id": "90f136c5",
   "metadata": {},
   "outputs": [],
   "source": []
  }
 ],
 "metadata": {
  "kernelspec": {
   "display_name": "Python 3",
   "language": "python",
   "name": "python3"
  },
  "language_info": {
   "codemirror_mode": {
    "name": "ipython",
    "version": 3
   },
   "file_extension": ".py",
   "mimetype": "text/x-python",
   "name": "python",
   "nbconvert_exporter": "python",
   "pygments_lexer": "ipython3",
   "version": "3.6.9"
  }
 },
 "nbformat": 4,
 "nbformat_minor": 5
}
