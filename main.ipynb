{
 "cells": [
  {
   "cell_type": "markdown",
   "id": "a84876a6",
   "metadata": {},
   "source": [
    "## Start"
   ]
  },
  {
   "cell_type": "code",
   "execution_count": 1,
   "id": "da7e0903",
   "metadata": {},
   "outputs": [],
   "source": [
    "from internal.initialize_data import *\n",
    "from internal.LOLOHA import *\n",
    "from client.client import *\n",
    "from server.server import *\n",
    "\n",
    "from rich.progress import Progress  # pip install rich\n",
    "\n",
    "EPSILON = 1\n",
    "RADNOM_SEED = 10\n",
    "DATASET_NUMBER = 2\n",
    "B = 0.005\n",
    "DELTA = 0.001\n",
    "GET_EVOLUTION = True\n",
    "LIMITED_NUMBER = 100"
   ]
  },
  {
   "cell_type": "markdown",
   "id": "a553daf2",
   "metadata": {},
   "source": [
    "## Initialize dataset"
   ]
  },
  {
   "cell_type": "code",
   "execution_count": 2,
   "id": "614910e5",
   "metadata": {},
   "outputs": [
    {
     "name": "stdout",
     "output_type": "stream",
     "text": [
      "Reading dataset ...\n",
      "Append evolution data ...\n",
      "Reading domains ...\n",
      "dataset[0] is [4, 0, 0, 0, 12, 0, 0, 0, 0, 0, 0, 0, 6, 0, 0]\n",
      "evolution_dataset[0][:10] is [102, 56, 56, 56, 56, 145, 145, 145, 145, 145]\n"
     ]
    }
   ],
   "source": [
    "dataset, evolution_dataset = read_dataset(f'dataset/Data{DATASET_NUMBER}-coarse.dat', GET_EVOLUTION, limited_number=LIMITED_NUMBER)\n",
    "domains = attributes_domain(f'dataset/Data{DATASET_NUMBER}-coarse.domain')\n",
    "\n",
    "\n",
    "print('dataset[0] is',dataset[0])\n",
    "print('evolution_dataset[0][:10] is',evolution_dataset[0][:10])"
   ]
  },
  {
   "cell_type": "markdown",
   "id": "dc21d8de",
   "metadata": {},
   "source": [
    "## Reduce domain size by hashing"
   ]
  },
  {
   "cell_type": "code",
   "execution_count": 3,
   "id": "2770c0d3",
   "metadata": {},
   "outputs": [
    {
     "name": "stdout",
     "output_type": "stream",
     "text": [
      "Reducing domain ...\n",
      "Optimal domain size is 2\n",
      "|   evolution_dataset |   hashed_evolution_dataset |\n",
      "|---------------------|----------------------------|\n",
      "|                 102 |                          0 |\n",
      "|                  56 |                          1 |\n",
      "|                  56 |                          1 |\n",
      "|                  56 |                          1 |\n",
      "|                  56 |                          1 |\n",
      "|                 145 |                          1 |\n",
      "|                 145 |                          1 |\n",
      "|                 145 |                          1 |\n",
      "|                 145 |                          1 |\n",
      "|                 145 |                          1 |\n"
     ]
    }
   ],
   "source": [
    "hashed_evolution_dataset, g = reduce_domain(evolution_dataset, EPSILON, RADNOM_SEED, 0.4)\n",
    "\n",
    "# Revise the domains (append evolution domain)\n",
    "domains.append(list(range(g)))\n",
    "\n",
    "# Client\n",
    "client_obj = Client(EPSILON, RADNOM_SEED, B, DELTA)\n",
    "# Server\n",
    "server_obj = Server(domains)\n",
    "\n",
    "print_table(evolution_dataset[0][:10], hashed_evolution_dataset[0][:10], 'evolution_dataset', 'hashed_evolution_dataset')"
   ]
  },
  {
   "cell_type": "markdown",
   "id": "3bad07b0",
   "metadata": {},
   "source": [
    "## Perturbation with GRR"
   ]
  },
  {
   "cell_type": "code",
   "execution_count": 4,
   "id": "f437f079",
   "metadata": {},
   "outputs": [
    {
     "name": "stdout",
     "output_type": "stream",
     "text": [
      "Perturbation with GRR ...\n",
      "|   hashed_evolution_dataset |   perturbed_evolution_dataset |\n",
      "|----------------------------|-------------------------------|\n",
      "|                          0 |                             1 |\n",
      "|                          1 |                             0 |\n",
      "|                          1 |                             1 |\n",
      "|                          1 |                             1 |\n",
      "|                          1 |                             1 |\n",
      "|                          1 |                             0 |\n",
      "|                          1 |                             1 |\n",
      "|                          1 |                             1 |\n",
      "|                          1 |                             0 |\n",
      "|                          1 |                             0 |\n"
     ]
    }
   ],
   "source": [
    "perturbed_evolution_dataset = perturbation_GRR(hashed_evolution_dataset, g, EPSILON, 0.2)\n",
    "\n",
    "print_table(hashed_evolution_dataset[0][:10], perturbed_evolution_dataset[0][:10], 'hashed_evolution_dataset', 'perturbed_evolution_dataset')"
   ]
  },
  {
   "cell_type": "markdown",
   "id": "4de91971",
   "metadata": {},
   "source": [
    "## Normalize Dataset"
   ]
  },
  {
   "cell_type": "code",
   "execution_count": 5,
   "id": "57ccfee5",
   "metadata": {},
   "outputs": [
    {
     "name": "stdout",
     "output_type": "stream",
     "text": [
      "Normalizing dataset to [-1,1]\n",
      "Normalizing dataset to [-1,1]\n",
      "|   perturbed_evolution_dataset |   normalized_evolution_dataset |\n",
      "|-------------------------------|--------------------------------|\n",
      "|                             1 |                              1 |\n",
      "|                             0 |                             -1 |\n",
      "|                             1 |                              1 |\n",
      "|                             1 |                              1 |\n",
      "|                             1 |                              1 |\n",
      "|                             0 |                             -1 |\n",
      "|                             1 |                              1 |\n",
      "|                             1 |                              1 |\n",
      "|                             0 |                             -1 |\n",
      "|                             0 |                             -1 |\n"
     ]
    }
   ],
   "source": [
    "# normalize to [-1,1]\n",
    "tau = len(evolution_dataset[0])\n",
    "normalized_dataset = normalize_dataset(dataset, domains)\n",
    "normalized_evolution_dataset = normalize_dataset(perturbed_evolution_dataset, [list(range(g)) for _ in range(tau)])\n",
    "\n",
    "print_table(perturbed_evolution_dataset[0][:10], normalized_evolution_dataset[0][:10], 'perturbed_evolution_dataset', 'normalized_evolution_dataset')"
   ]
  },
  {
   "cell_type": "markdown",
   "id": "2b253975",
   "metadata": {},
   "source": [
    "## Wheel of Differential"
   ]
  },
  {
   "cell_type": "code",
   "execution_count": 11,
   "id": "de283363",
   "metadata": {},
   "outputs": [],
   "source": [
    "retrieval_dataset = []\n",
    "retrieval_evolutional_dataset = []\n",
    "\n",
    "for data, data_e in zip(normalized_dataset, normalized_evolution_dataset):\n",
    "    perturbed_data = client_obj.send_perturbed_avg_eigenvector(data, data_e)\n",
    "    retrieval_data = server_obj.received_avg_eigenvector(perturbed_data)\n",
    "    retrieval_dataset.append(retrieval_data[0][:-1])\n",
    "    retrieval_evolutional_dataset.append([row[-1] for row in retrieval_data])\n",
    "\n"
   ]
  },
  {
   "cell_type": "markdown",
   "id": "ea0bdbbd",
   "metadata": {},
   "source": [
    "## Evaluation"
   ]
  },
  {
   "cell_type": "code",
   "execution_count": 7,
   "id": "a1a1f261",
   "metadata": {},
   "outputs": [
    {
     "name": "stdout",
     "output_type": "stream",
     "text": [
      "|   normalized data |   retrival data |\n",
      "|-------------------|-----------------|\n",
      "|         -0.466667 |       -0.467062 |\n",
      "|         -1        |       -1.0004   |\n",
      "|         -1        |       -1.0004   |\n",
      "|         -1        |       -1.0004   |\n",
      "|          0.6      |        0.599605 |\n",
      "|         -1        |       -1.0004   |\n",
      "|         -1        |       -1.0004   |\n",
      "|         -1        |       -1.0004   |\n",
      "|         -1        |       -1.0004   |\n",
      "|         -1        |       -1.0004   |\n",
      "|         -1        |       -1.0004   |\n",
      "|         -1        |       -1.0004   |\n",
      "|         -0.2      |       -0.200395 |\n",
      "|         -1        |       -1.0004   |\n",
      "|         -1        |       -1.0004   |\n",
      "|          1        |        0.999605 |\n",
      "domain size of retrieval data is 15\n",
      "tau is 120\n"
     ]
    }
   ],
   "source": [
    "print_table([*normalized_dataset[0], normalized_evolution_dataset[0][0]], [*retrieval_dataset[0], retrieval_evolutional_dataset[0][0]],\n",
    "            'normalized data', 'retrival data')\n",
    "\n",
    "print('domain size of retrieval data is',len(retrieval_dataset[0]))\n",
    "print('tau is', len(retrieval_evolutional_dataset[0]))"
   ]
  },
  {
   "cell_type": "code",
   "execution_count": 8,
   "id": "018e104f",
   "metadata": {},
   "outputs": [
    {
     "name": "stdout",
     "output_type": "stream",
     "text": [
      "Denormaizing dataset ...\n",
      "Denormaizing dataset ...\n"
     ]
    }
   ],
   "source": [
    "# denormalizing\n",
    "denormalized = denormalize_dataset(retrieval_dataset, domains)\n",
    "denormalized_evolution_dataset = denormalize_dataset(retrieval_evolutional_dataset, [list(range(g)) for _ in range(tau)])\n"
   ]
  },
  {
   "cell_type": "code",
   "execution_count": 9,
   "id": "09d9e241",
   "metadata": {},
   "outputs": [
    {
     "name": "stdout",
     "output_type": "stream",
     "text": [
      "|   original |    retrieved |\n",
      "|------------|--------------|\n",
      "|          4 |  3.99704     |\n",
      "|          0 | -0.00118541  |\n",
      "|          0 | -0.00296352  |\n",
      "|          0 | -0.00296352  |\n",
      "|         12 | 11.997       |\n",
      "|          0 | -0.00118541  |\n",
      "|          0 | -0.00256838  |\n",
      "|          0 | -0.00098784  |\n",
      "|          0 | -0.000790272 |\n",
      "|          0 | -0.000197568 |\n",
      "|          0 | -0.00296352  |\n",
      "|          0 | -0.00296352  |\n",
      "|          6 |  5.99704     |\n",
      "|          0 | -0.00790272  |\n",
      "|          0 | -0.000197568 |\n",
      "|   original evolution |   retrieved evolution |\n",
      "|----------------------|-----------------------|\n",
      "|                    0 |           0.999802    |\n",
      "|                    1 |          -0.000204816 |\n",
      "|                    1 |           0.999802    |\n",
      "|                    1 |           0.999802    |\n",
      "|                    1 |           0.999802    |\n",
      "|                    1 |          -0.000204816 |\n",
      "|                    1 |           0.999802    |\n",
      "|                    1 |           0.999802    |\n",
      "|                    1 |          -0.000204816 |\n",
      "|                    1 |          -0.000204816 |\n",
      "MSE is 0.07067035279547265\n",
      "Average Variation Distance is 0.06481911944167047\n"
     ]
    }
   ],
   "source": [
    "print_table(dataset[0], denormalized[0], 'original', 'retrieved')\n",
    "print_table(hashed_evolution_dataset[0][:10], denormalized_evolution_dataset[0][:10], 'original evolution', 'retrieved evolution')\n",
    "\n",
    "print('MSE is', findMSE(normalized_dataset, retrieval_dataset))\n",
    "_, avg = average_variation_distance(dataset, denormalized)\n",
    "print('Average Variation Distance is', avg)"
   ]
  },
  {
   "cell_type": "code",
   "execution_count": null,
   "id": "afc7ab1b",
   "metadata": {},
   "outputs": [],
   "source": []
  }
 ],
 "metadata": {
  "kernelspec": {
   "display_name": "Python 3",
   "language": "python",
   "name": "python3"
  },
  "language_info": {
   "codemirror_mode": {
    "name": "ipython",
    "version": 3
   },
   "file_extension": ".py",
   "mimetype": "text/x-python",
   "name": "python",
   "nbconvert_exporter": "python",
   "pygments_lexer": "ipython3",
   "version": "3.6.9"
  }
 },
 "nbformat": 4,
 "nbformat_minor": 5
}
