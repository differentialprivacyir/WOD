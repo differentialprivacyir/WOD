{
 "cells": [
  {
   "cell_type": "markdown",
   "id": "a84876a6",
   "metadata": {},
   "source": [
    "## Start"
   ]
  },
  {
   "cell_type": "code",
   "execution_count": 6,
   "id": "da7e0903",
   "metadata": {},
   "outputs": [],
   "source": [
    "from internal.initialize_data import *\n",
    "from internal.LOLOHA import *\n",
    "from client.client import *\n",
    "from server.server import *\n",
    "\n",
    "import progressbar  # pip install progressbar\n",
    "\n",
    "EPSILON = 1\n",
    "RADNOM_SEED = 10\n",
    "DATASET_NUMBER = 2\n",
    "B = 0.005\n",
    "DELTA = 0.001\n",
    "LIMITED_NUMBER = 100\n",
    "EVOLUTION_DOMAIN_SIZE = 360  # in order to Syn.csv\n",
    "ALPHA = 0.4\n",
    "epsiolon1 = ALPHA * EPSILON"
   ]
  },
  {
   "cell_type": "markdown",
   "id": "a553daf2",
   "metadata": {},
   "source": [
    "## Initialize dataset"
   ]
  },
  {
   "cell_type": "code",
   "execution_count": 7,
   "id": "614910e5",
   "metadata": {},
   "outputs": [
    {
     "name": "stdout",
     "output_type": "stream",
     "text": [
      "Reading dataset ...\n",
      "Append evolution data ...\n",
      "Reading domains ...\n",
      "dataset[0] is [4, 0, 0, 0, 12, 0, 0, 0, 0, 0, 0, 0, 6, 0, 0]\n",
      "evolution_dataset[0][:10] is [102, 56, 56, 56, 56, 145, 145, 145, 145, 145]\n",
      "tau is 120\n",
      "number of users is 100\n"
     ]
    }
   ],
   "source": [
    "df = read_evolution_dataset('dataset/Syn.csv')\n",
    "dataset, evolution_dataset = read_dataset(f'dataset/Data{DATASET_NUMBER}-coarse.dat', df, limited_number=LIMITED_NUMBER)\n",
    "domains = attributes_domain(f'dataset/Data{DATASET_NUMBER}-coarse.domain')\n",
    "tau = len(evolution_dataset[0])\n",
    "number_of_users = len(dataset)\n",
    "\n",
    "print('dataset[0] is',dataset[0])\n",
    "print('evolution_dataset[0][:10] is',evolution_dataset[0][:10])\n",
    "print('tau is', tau)\n",
    "print('number of users is', number_of_users)"
   ]
  },
  {
   "cell_type": "markdown",
   "id": "8233eae6",
   "metadata": {},
   "source": [
    "## Real frequency for each data collection $t \\in [\\tau]$"
   ]
  },
  {
   "cell_type": "code",
   "execution_count": 8,
   "id": "ffde1c6c",
   "metadata": {},
   "outputs": [
    {
     "data": {
      "text/plain": [
       "array([0.  , 0.01, 0.  , 0.  , 0.  , 0.  , 0.  , 0.  , 0.01, 0.  , 0.  ,\n",
       "       0.  , 0.  , 0.01, 0.01, 0.  , 0.  , 0.  , 0.  , 0.  , 0.02, 0.01,\n",
       "       0.  , 0.  , 0.  , 0.  , 0.  , 0.  , 0.  , 0.  , 0.  , 0.  , 0.  ,\n",
       "       0.  , 0.01, 0.  , 0.  , 0.  , 0.  , 0.  , 0.01, 0.  , 0.  , 0.01,\n",
       "       0.  , 0.  , 0.  , 0.  , 0.01, 0.01, 0.01, 0.  , 0.02, 0.01, 0.01,\n",
       "       0.  , 0.  , 0.  , 0.01, 0.  , 0.  , 0.  , 0.  , 0.  , 0.01, 0.  ,\n",
       "       0.  , 0.  , 0.  , 0.  , 0.  , 0.01, 0.  , 0.  , 0.  , 0.  , 0.  ,\n",
       "       0.  , 0.  , 0.  , 0.01, 0.  , 0.  , 0.  , 0.  , 0.  , 0.  , 0.01,\n",
       "       0.01, 0.  , 0.  , 0.01, 0.  , 0.  , 0.  , 0.  , 0.  , 0.  , 0.  ,\n",
       "       0.01, 0.  , 0.  , 0.02, 0.  , 0.  , 0.01, 0.01, 0.  , 0.  , 0.  ,\n",
       "       0.  , 0.  , 0.  , 0.  , 0.  , 0.  , 0.  , 0.  , 0.  , 0.  , 0.  ,\n",
       "       0.01, 0.  , 0.  , 0.  , 0.  , 0.  , 0.  , 0.01, 0.  , 0.02, 0.  ,\n",
       "       0.  , 0.  , 0.01, 0.01, 0.  , 0.  , 0.  , 0.  , 0.  , 0.  , 0.  ,\n",
       "       0.  , 0.  , 0.  , 0.  , 0.  , 0.  , 0.01, 0.  , 0.01, 0.  , 0.  ,\n",
       "       0.  , 0.  , 0.01, 0.  , 0.  , 0.  , 0.01, 0.01, 0.  , 0.  , 0.  ,\n",
       "       0.  , 0.01, 0.  , 0.  , 0.01, 0.  , 0.  , 0.  , 0.  , 0.01, 0.  ,\n",
       "       0.  , 0.  , 0.  , 0.  , 0.  , 0.  , 0.  , 0.  , 0.  , 0.  , 0.  ,\n",
       "       0.02, 0.01, 0.02, 0.01, 0.01, 0.  , 0.  , 0.  , 0.  , 0.  , 0.  ,\n",
       "       0.  , 0.  , 0.  , 0.01, 0.  , 0.  , 0.  , 0.01, 0.  , 0.01, 0.  ,\n",
       "       0.  , 0.  , 0.  , 0.01, 0.  , 0.02, 0.  , 0.01, 0.01, 0.  , 0.  ,\n",
       "       0.  , 0.  , 0.  , 0.  , 0.  , 0.  , 0.  , 0.  , 0.  , 0.  , 0.  ,\n",
       "       0.  , 0.  , 0.  , 0.  , 0.01, 0.01, 0.  , 0.  , 0.  , 0.  , 0.01,\n",
       "       0.  , 0.01, 0.  , 0.  , 0.  , 0.  , 0.  , 0.  , 0.  , 0.02, 0.01,\n",
       "       0.  , 0.  , 0.  , 0.  , 0.01, 0.  , 0.01, 0.  , 0.  , 0.  , 0.01,\n",
       "       0.01, 0.  , 0.  , 0.  , 0.  , 0.01, 0.03, 0.  , 0.  , 0.01, 0.  ,\n",
       "       0.  , 0.01, 0.  , 0.  , 0.01, 0.  , 0.  , 0.  , 0.  , 0.  , 0.  ,\n",
       "       0.  , 0.  , 0.  , 0.  , 0.  , 0.  , 0.  , 0.01, 0.  , 0.01, 0.  ,\n",
       "       0.  , 0.  , 0.  , 0.01, 0.  , 0.  , 0.01, 0.  , 0.  , 0.01, 0.  ,\n",
       "       0.01, 0.01, 0.  , 0.  , 0.  , 0.01, 0.  , 0.01, 0.  , 0.  , 0.  ,\n",
       "       0.01, 0.  , 0.  , 0.  , 0.  , 0.  , 0.  , 0.01, 0.  , 0.01, 0.  ,\n",
       "       0.01, 0.  , 0.  , 0.  , 0.  , 0.  , 0.  , 0.01, 0.  , 0.01, 0.  ,\n",
       "       0.  , 0.  , 0.02, 0.02, 0.01, 0.  , 0.  , 0.01, 0.  , 0.01, 0.  ,\n",
       "       0.  , 0.  , 0.  , 0.  , 0.  , 0.  , 0.  , 0.02])"
      ]
     },
     "execution_count": 8,
     "metadata": {},
     "output_type": "execute_result"
    }
   ],
   "source": [
    "dic_real_freq = compute_frequency(evolution_dataset, tau, EVOLUTION_DOMAIN_SIZE)\n",
    "dic_real_freq[0]"
   ]
  },
  {
   "cell_type": "markdown",
   "id": "dc21d8de",
   "metadata": {},
   "source": [
    "## Reduce domain size by hashing"
   ]
  },
  {
   "cell_type": "code",
   "execution_count": 9,
   "id": "2770c0d3",
   "metadata": {},
   "outputs": [
    {
     "name": "stdout",
     "output_type": "stream",
     "text": [
      "Reducing domain ...\n",
      "|   evolution_dataset |   hashed_evolution_dataset |\n",
      "|---------------------|----------------------------|\n",
      "|                 102 |                          0 |\n",
      "|                  56 |                          1 |\n",
      "|                  56 |                          1 |\n",
      "|                  56 |                          1 |\n",
      "|                  56 |                          1 |\n",
      "|                 145 |                          1 |\n",
      "|                 145 |                          1 |\n",
      "|                 145 |                          1 |\n",
      "|                 145 |                          1 |\n",
      "|                 145 |                          1 |\n",
      "user hash functions are [959292554089781556, 2917944229455979817, 6329544141319184216, 6935379919935379915, 3230042899886864538, 3820150029975385082, 7093528539362113537, 5591581541011456349, 6758522427019068743, 972213184707543646, 6550077327908756209, 2496667394581134007, 6860215000316267529, 8360917911912408019, 1878169120616625920, 1713447928506913891, 1151819539913749084, 2069771372593385301, 7561097050033803154, 6298456852114867389, 6002591137239270764, 887036929422837541, 3174421899123402052, 8710129269458387199, 4627628582321058215, 8315338284686855552, 2901214794208705627, 2710455128897167508, 3180479521483361454, 2693477719997078876, 7765519636305983836, 3830785860166037795, 2727107296952481539, 3139742294193939527, 2927227786013828352, 3029684024181222781, 3316275240747123657, 2607732201350710576, 6585241814808324175, 1152431485754423201, 9099232963301438494, 207673394988451100, 9036092070285820722, 5748852815855298537, 5020406294730795675, 3446399139842802192, 5862283563197945668, 8418243895967616441, 6207089218410460784, 1900644461901968428, 1442479315997087330, 3130764216124271795, 8036839209878341765, 8288846600032083476, 3287061688036012241, 4958336519090976766, 4032969896600348318, 8165975793110320671, 8399742287445523260, 3486987015791237204, 6273689500302599578, 2503426086560220954, 4100993406707051389, 8165600470179294449, 8386612263685639719, 6520421560813546097, 316607446096837158, 2084391143038307141, 6668331361492730585, 1203555728776829729, 2113188049353879646, 5309188333066731588, 2577425311062928201, 6123570885036002553, 8814900773372087382, 430790781124223364, 7148157153628309793, 4845479255102397983, 3552087720436352692, 8897811612133495115, 4426600788379837518, 553709536913359919, 3406880031841630428, 5803569162635195917, 8935172379772681398, 114288716574091433, 8035775454974563078, 8848612623206780615, 7903819774642487111, 3793154809724981924, 2946671808644539421, 4473625269336870964, 1170475762925246677, 4154485061918823587, 7319320190137161387, 4006858463148043448, 8851423980465658580, 8401720455556957361, 9108428754036036863, 8497871789184707164]\n"
     ]
    }
   ],
   "source": [
    "g = compute_optimal_domain_size(EPSILON, ALPHA)\n",
    "hashed_evolution_dataset, user_hash_functions = reduce_domain_dataset(evolution_dataset, g)\n",
    "\n",
    "# Revise the domains (append evolution domain)\n",
    "domains.append(list(range(g)))\n",
    "\n",
    "# Client\n",
    "client_obj = Client(EPSILON, RADNOM_SEED, B, DELTA)\n",
    "# Server\n",
    "server_obj = Server(domains)\n",
    "\n",
    "print_table(evolution_dataset[0][:10], hashed_evolution_dataset[0][:10], 'evolution_dataset', 'hashed_evolution_dataset')\n",
    "\n",
    "print('user hash functions are', user_hash_functions)"
   ]
  },
  {
   "cell_type": "markdown",
   "id": "3bad07b0",
   "metadata": {},
   "source": [
    "## Perturbation with GRR"
   ]
  },
  {
   "cell_type": "code",
   "execution_count": 10,
   "id": "f437f079",
   "metadata": {},
   "outputs": [
    {
     "name": "stdout",
     "output_type": "stream",
     "text": [
      "Perturbation with GRR ...\n"
     ]
    },
    {
     "name": "stdout",
     "output_type": "stream",
     "text": [
      "|   hashed_evolution_dataset |   perturbed_evolution_dataset |\n",
      "|----------------------------|-------------------------------|\n",
      "|                          0 |                             1 |\n",
      "|                          1 |                             0 |\n",
      "|                          1 |                             1 |\n",
      "|                          1 |                             1 |\n",
      "|                          1 |                             1 |\n",
      "|                          1 |                             0 |\n",
      "|                          1 |                             1 |\n",
      "|                          1 |                             1 |\n",
      "|                          1 |                             0 |\n",
      "|                          1 |                             0 |\n"
     ]
    }
   ],
   "source": [
    "perturbed_evolution_dataset = perturbation_GRR(hashed_evolution_dataset, g, EPSILON, 0.2)\n",
    "\n",
    "print_table(hashed_evolution_dataset[0][:10], perturbed_evolution_dataset[0][:10], 'hashed_evolution_dataset', 'perturbed_evolution_dataset')"
   ]
  },
  {
   "cell_type": "markdown",
   "id": "4de91971",
   "metadata": {},
   "source": [
    "## Normalize Dataset"
   ]
  },
  {
   "cell_type": "code",
   "execution_count": 11,
   "id": "57ccfee5",
   "metadata": {},
   "outputs": [
    {
     "name": "stdout",
     "output_type": "stream",
     "text": [
      "Normalizing dataset to [-1,1]\n"
     ]
    },
    {
     "name": "stdout",
     "output_type": "stream",
     "text": [
      "Normalizing dataset to [-1,1]\n",
      "|   perturbed_evolution_dataset |   normalized_evolution_dataset |\n",
      "|-------------------------------|--------------------------------|\n",
      "|                             1 |                              1 |\n",
      "|                             0 |                             -1 |\n",
      "|                             1 |                              1 |\n",
      "|                             1 |                              1 |\n",
      "|                             1 |                              1 |\n",
      "|                             0 |                             -1 |\n",
      "|                             1 |                              1 |\n",
      "|                             1 |                              1 |\n",
      "|                             0 |                             -1 |\n",
      "|                             0 |                             -1 |\n"
     ]
    }
   ],
   "source": [
    "# normalize to [-1,1]\n",
    "normalized_dataset = normalize_dataset(dataset, domains)\n",
    "normalized_evolution_dataset = normalize_dataset(perturbed_evolution_dataset, [list(range(g)) for _ in range(tau)])\n",
    "\n",
    "print_table(perturbed_evolution_dataset[0][:10], normalized_evolution_dataset[0][:10], 'perturbed_evolution_dataset', 'normalized_evolution_dataset')"
   ]
  },
  {
   "cell_type": "markdown",
   "id": "2b253975",
   "metadata": {},
   "source": [
    "## Wheel of Differential"
   ]
  },
  {
   "cell_type": "code",
   "execution_count": 12,
   "id": "de283363",
   "metadata": {},
   "outputs": [
    {
     "name": "stdout",
     "output_type": "stream",
     "text": [
      "Wheel of Differential ...\n"
     ]
    }
   ],
   "source": [
    "print('Wheel of Differential ...')\n",
    "retrieval_dataset = []\n",
    "retrieval_evolutional_dataset = []\n",
    "\n",
    "for data, data_e in zip(normalized_dataset, normalized_evolution_dataset):\n",
    "    perturbed_data = client_obj.send_perturbed_avg_eigenvector(data, data_e)\n",
    "    retrieval_data = server_obj.received_avg_eigenvector(perturbed_data)\n",
    "    retrieval_dataset.append(retrieval_data[0][:-1])\n",
    "    retrieval_evolutional_dataset.append(get_coloumn_dataset(retrieval_data, -1))\n"
   ]
  },
  {
   "cell_type": "markdown",
   "id": "ea0bdbbd",
   "metadata": {},
   "source": [
    "## Evaluation"
   ]
  },
  {
   "cell_type": "code",
   "execution_count": 13,
   "id": "a1a1f261",
   "metadata": {},
   "outputs": [
    {
     "name": "stdout",
     "output_type": "stream",
     "text": [
      "|   normalized data |   retrival data |\n",
      "|-------------------|-----------------|\n",
      "|         -0.466667 |       -0.467062 |\n",
      "|         -1        |       -1.0004   |\n",
      "|         -1        |       -1.0004   |\n",
      "|         -1        |       -1.0004   |\n",
      "|          0.6      |        0.599605 |\n",
      "|         -1        |       -1.0004   |\n",
      "|         -1        |       -1.0004   |\n",
      "|         -1        |       -1.0004   |\n",
      "|         -1        |       -1.0004   |\n",
      "|         -1        |       -1.0004   |\n",
      "|         -1        |       -1.0004   |\n",
      "|         -1        |       -1.0004   |\n",
      "|         -0.2      |       -0.200395 |\n",
      "|         -1        |       -1.0004   |\n",
      "|         -1        |       -1.0004   |\n",
      "|          1        |        0.999605 |\n",
      "domain size of retrieval data is 15\n",
      "tau is 120\n"
     ]
    }
   ],
   "source": [
    "print_table([*normalized_dataset[0], normalized_evolution_dataset[0][0]], [*retrieval_dataset[0], retrieval_evolutional_dataset[0][0]],\n",
    "            'normalized data', 'retrival data')\n",
    "\n",
    "print('domain size of retrieval data is',len(retrieval_dataset[0]))\n",
    "print('tau is', len(retrieval_evolutional_dataset[0]))"
   ]
  },
  {
   "cell_type": "code",
   "execution_count": 14,
   "id": "018e104f",
   "metadata": {},
   "outputs": [
    {
     "name": "stdout",
     "output_type": "stream",
     "text": [
      "Denormaizing dataset ...\n",
      "Denormaizing dataset ...\n",
      "Rounding dataset ...\n"
     ]
    }
   ],
   "source": [
    "# denormalizing\n",
    "denormalized = denormalize_dataset(retrieval_dataset, domains)\n",
    "denormalized_evolution_dataset = denormalize_dataset(retrieval_evolutional_dataset, [list(range(g)) for _ in range(tau)])\n",
    "rounded_evolution_dataset = round_dataset(denormalized_evolution_dataset)\n"
   ]
  },
  {
   "cell_type": "code",
   "execution_count": 15,
   "id": "09d9e241",
   "metadata": {},
   "outputs": [
    {
     "name": "stdout",
     "output_type": "stream",
     "text": [
      "|   original |    retrieved |\n",
      "|------------|--------------|\n",
      "|          4 |  3.99704     |\n",
      "|          0 | -0.00118541  |\n",
      "|          0 | -0.00296352  |\n",
      "|          0 | -0.00296352  |\n",
      "|         12 | 11.997       |\n",
      "|          0 | -0.00118541  |\n",
      "|          0 | -0.00256838  |\n",
      "|          0 | -0.00098784  |\n",
      "|          0 | -0.000790272 |\n",
      "|          0 | -0.000197568 |\n",
      "|          0 | -0.00296352  |\n",
      "|          0 | -0.00296352  |\n",
      "|          6 |  5.99704     |\n",
      "|          0 | -0.00790272  |\n",
      "|          0 | -0.000197568 |\n",
      "|   original evolution |   retrieved evolution |\n",
      "|----------------------|-----------------------|\n",
      "|                    0 |                     1 |\n",
      "|                    1 |                     0 |\n",
      "|                    1 |                     1 |\n",
      "|                    1 |                     1 |\n",
      "|                    1 |                     1 |\n",
      "|                    1 |                     0 |\n",
      "|                    1 |                     1 |\n",
      "|                    1 |                     1 |\n",
      "|                    1 |                     0 |\n",
      "|                    1 |                     0 |\n",
      "MSE is 0.08811244740386655\n",
      "Average Variation Distance is 0.07908862275110679\n"
     ]
    }
   ],
   "source": [
    "print_table(dataset[0], denormalized[0], 'original', 'retrieved')\n",
    "print_table(hashed_evolution_dataset[0][:10], rounded_evolution_dataset[0][:10], 'original evolution', 'retrieved evolution')\n",
    "\n",
    "print('MSE is', findMSE(normalized_dataset, retrieval_dataset))\n",
    "_, avg = average_variation_distance(dataset, denormalized)\n",
    "print('Average Variation Distance is', avg)"
   ]
  },
  {
   "cell_type": "markdown",
   "id": "8cae56c0",
   "metadata": {},
   "source": [
    "## Evaluate Frequency Estimation"
   ]
  },
  {
   "cell_type": "code",
   "execution_count": 16,
   "id": "afc7ab1b",
   "metadata": {},
   "outputs": [
    {
     "name": "stderr",
     "output_type": "stream",
     "text": [
      "100% |########################################################################|\r"
     ]
    },
    {
     "name": "stdout",
     "output_type": "stream",
     "text": [
      "|   real frequency |   estimate frequency |\n",
      "|------------------|----------------------|\n",
      "|             0    |           0.00142045 |\n",
      "|             0.01 |           0.00568182 |\n",
      "|             0    |           0          |\n",
      "|             0    |           0.00142045 |\n",
      "|             0    |           0.00142045 |\n",
      "|             0    |           0.015625   |\n",
      "|             0    |           0.0113636  |\n",
      "|             0    |           0.00284091 |\n",
      "|             0.01 |           0.00710227 |\n",
      "|             0    |           0.00710227 |\n",
      "MSE of frequency is 4.797942084286477e-05\n"
     ]
    },
    {
     "name": "stderr",
     "output_type": "stream",
     "text": [
      "\n"
     ]
    }
   ],
   "source": [
    "prog = progressbar.ProgressBar(maxval=tau)\n",
    "prog.start()\n",
    "\n",
    "dic_estimate_freq = []\n",
    "for t in range(tau):\n",
    "    dic_estimate_freq.append(LOLOHA_Aggregator(get_coloumn_dataset(rounded_evolution_dataset, t), user_hash_functions, EVOLUTION_DOMAIN_SIZE, EPSILON, epsiolon1, ALPHA))\n",
    "    prog.update(t) \n",
    "\n",
    "prog.finish()\n",
    "\n",
    "print_table(dic_real_freq[0][:10], dic_estimate_freq[0][:10], 'real frequency', 'estimate frequency')\n",
    "\n",
    "print('MSE of frequency is', findMSE(dic_real_freq, dic_estimate_freq))"
   ]
  },
  {
   "cell_type": "markdown",
   "id": "75aa4ffe",
   "metadata": {},
   "source": []
  },
  {
   "cell_type": "code",
   "execution_count": null,
   "id": "fc8323fa",
   "metadata": {},
   "outputs": [],
   "source": []
  }
 ],
 "metadata": {
  "kernelspec": {
   "display_name": "Python 3",
   "language": "python",
   "name": "python3"
  },
  "language_info": {
   "codemirror_mode": {
    "name": "ipython",
    "version": 3
   },
   "file_extension": ".py",
   "mimetype": "text/x-python",
   "name": "python",
   "nbconvert_exporter": "python",
   "pygments_lexer": "ipython3",
   "version": "3.6.9"
  }
 },
 "nbformat": 4,
 "nbformat_minor": 5
}
